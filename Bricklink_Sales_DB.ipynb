{
 "cells": [
  {
   "cell_type": "code",
   "execution_count": 1,
   "metadata": {},
   "outputs": [],
   "source": [
    "import glob\n",
    "import os\n",
    "import pandas as pd\n",
    "import csv"
   ]
  },
  {
   "cell_type": "code",
   "execution_count": 2,
   "metadata": {},
   "outputs": [],
   "source": [
    "path = '/Users/dominicgraziano/Documents/Bricklink_Orders/Data/'"
   ]
  },
  {
   "cell_type": "markdown",
   "metadata": {},
   "source": [
    "Get all of the csv files within my data folder"
   ]
  },
  {
   "cell_type": "code",
   "execution_count": 3,
   "metadata": {},
   "outputs": [],
   "source": [
    "files = glob.glob(os.path.join(path, '*csv')) \n",
    "files = files"
   ]
  },
  {
   "cell_type": "markdown",
   "metadata": {},
   "source": [
    "Takes all of the csv files in the list and concatenates them into a single dataframe"
   ]
  },
  {
   "cell_type": "code",
   "execution_count": 4,
   "metadata": {},
   "outputs": [],
   "source": [
    "combine_df = pd.DataFrame()\n",
    "for file in files:\n",
    "    df = pd.read_csv(file)\n",
    "    combine_df = pd.concat([combine_df,df])"
   ]
  },
  {
   "cell_type": "code",
   "execution_count": 5,
   "metadata": {},
   "outputs": [
    {
     "data": {
      "text/plain": [
       "Index(['Order ID', 'Order Date', 'Buyer', 'Base Currency', 'Shipping',\n",
       "       'Insurance', 'Add Chrg 1', 'Add Chrg 2', 'Credit', 'Coupon Credit',\n",
       "       'Order Total', 'Tax', 'Base Grand Total', 'Total Lots', 'Total Items',\n",
       "       'Order Status', 'Order Status Changed', 'Pmt In', 'Pmt Method',\n",
       "       'Order Note', 'Tracking No', 'Location', 'Batch', 'Batch Date',\n",
       "       'Condition', 'Item Description', 'My Remarks', 'Qty', 'Each', 'Total',\n",
       "       'Item Type', 'Item Number', 'Weight', 'Inv ID', 'Sub-Condition',\n",
       "       'Unnamed: 35', 'Unnamed: 36'],\n",
       "      dtype='object')"
      ]
     },
     "execution_count": 5,
     "metadata": {},
     "output_type": "execute_result"
    }
   ],
   "source": [
    "combine_df.columns"
   ]
  },
  {
   "cell_type": "markdown",
   "metadata": {},
   "source": [
    "Filtering out unneccessary columns to get those that will be uploaded into the database"
   ]
  },
  {
   "cell_type": "code",
   "execution_count": 6,
   "metadata": {},
   "outputs": [
    {
     "name": "stdout",
     "output_type": "stream",
     "text": [
      "20\n"
     ]
    }
   ],
   "source": [
    "columns = ['Order ID', 'Order Date', 'Buyer', 'Base Currency', 'Shipping',\n",
    "                'Order Total', 'Tax', 'Base Grand Total', 'Total Lots', 'Total Items',\n",
    "                'Order Status','Location','Condition', 'Item Description','Qty', 'Each',\n",
    "                'Total','Item Type', 'Item Number','Inv ID']\n",
    "\n",
    "end_df = combine_df[columns]\n",
    "end_df = end_df[1:]\n",
    "print(len(end_df.columns))"
   ]
  },
  {
   "cell_type": "markdown",
   "metadata": {},
   "source": [
    "Changing the datetime to a format that will be accepted by MySQL"
   ]
  },
  {
   "cell_type": "code",
   "execution_count": 7,
   "metadata": {},
   "outputs": [],
   "source": [
    "end_df['Order Date']= pd.to_datetime(end_df['Order Date'],format = '%m/%d/%Y').dt.strftime('%Y-%m-%d')"
   ]
  },
  {
   "cell_type": "markdown",
   "metadata": {},
   "source": [
    "Remove the $ from all of the prices, so they will be accepted as floats"
   ]
  },
  {
   "cell_type": "code",
   "execution_count": 8,
   "metadata": {},
   "outputs": [],
   "source": [
    "end_df = end_df.applymap(lambda x: x.replace('$', '') if isinstance(x, str) else x)\n"
   ]
  },
  {
   "cell_type": "code",
   "execution_count": 9,
   "metadata": {},
   "outputs": [],
   "source": [
    "end_df['Item Number'] = end_df['Item Number'].fillna('11')\n",
    "end_df['Item Number'] = end_df['Item Number'].astype(str)"
   ]
  },
  {
   "cell_type": "code",
   "execution_count": 10,
   "metadata": {},
   "outputs": [
    {
     "data": {
      "text/html": [
       "<div>\n",
       "<style scoped>\n",
       "    .dataframe tbody tr th:only-of-type {\n",
       "        vertical-align: middle;\n",
       "    }\n",
       "\n",
       "    .dataframe tbody tr th {\n",
       "        vertical-align: top;\n",
       "    }\n",
       "\n",
       "    .dataframe thead th {\n",
       "        text-align: right;\n",
       "    }\n",
       "</style>\n",
       "<table border=\"1\" class=\"dataframe\">\n",
       "  <thead>\n",
       "    <tr style=\"text-align: right;\">\n",
       "      <th></th>\n",
       "      <th>Order ID</th>\n",
       "      <th>Order Date</th>\n",
       "      <th>Buyer</th>\n",
       "      <th>Base Currency</th>\n",
       "      <th>Shipping</th>\n",
       "      <th>Order Total</th>\n",
       "      <th>Tax</th>\n",
       "      <th>Base Grand Total</th>\n",
       "      <th>Total Lots</th>\n",
       "      <th>Total Items</th>\n",
       "      <th>Order Status</th>\n",
       "      <th>Location</th>\n",
       "      <th>Condition</th>\n",
       "      <th>Item Description</th>\n",
       "      <th>Qty</th>\n",
       "      <th>Each</th>\n",
       "      <th>Total</th>\n",
       "      <th>Item Type</th>\n",
       "      <th>Item Number</th>\n",
       "      <th>Inv ID</th>\n",
       "    </tr>\n",
       "  </thead>\n",
       "  <tbody>\n",
       "    <tr>\n",
       "      <th>1</th>\n",
       "      <td>23214652.0</td>\n",
       "      <td>2023-09-29</td>\n",
       "      <td>ArcStore27</td>\n",
       "      <td>USD</td>\n",
       "      <td>4.99</td>\n",
       "      <td>6.50</td>\n",
       "      <td>0.47</td>\n",
       "      <td>11.96</td>\n",
       "      <td>2.0</td>\n",
       "      <td>2.0</td>\n",
       "      <td>Shipped</td>\n",
       "      <td>USA, California</td>\n",
       "      <td>NaN</td>\n",
       "      <td>NaN</td>\n",
       "      <td>NaN</td>\n",
       "      <td>NaN</td>\n",
       "      <td>NaN</td>\n",
       "      <td>NaN</td>\n",
       "      <td>11</td>\n",
       "      <td>NaN</td>\n",
       "    </tr>\n",
       "    <tr>\n",
       "      <th>2</th>\n",
       "      <td>NaN</td>\n",
       "      <td>NaN</td>\n",
       "      <td>NaN</td>\n",
       "      <td>NaN</td>\n",
       "      <td>NaN</td>\n",
       "      <td>NaN</td>\n",
       "      <td>NaN</td>\n",
       "      <td>NaN</td>\n",
       "      <td>NaN</td>\n",
       "      <td>NaN</td>\n",
       "      <td>NaN</td>\n",
       "      <td>NaN</td>\n",
       "      <td>Used</td>\n",
       "      <td>Trans-Light Blue Brick 1 x 2 x 5 without Side ...</td>\n",
       "      <td>1.0</td>\n",
       "      <td>3.50</td>\n",
       "      <td>3.50</td>\n",
       "      <td>Part</td>\n",
       "      <td>46212pb001</td>\n",
       "      <td>366406343.0</td>\n",
       "    </tr>\n",
       "    <tr>\n",
       "      <th>3</th>\n",
       "      <td>NaN</td>\n",
       "      <td>NaN</td>\n",
       "      <td>NaN</td>\n",
       "      <td>NaN</td>\n",
       "      <td>NaN</td>\n",
       "      <td>NaN</td>\n",
       "      <td>NaN</td>\n",
       "      <td>NaN</td>\n",
       "      <td>NaN</td>\n",
       "      <td>NaN</td>\n",
       "      <td>NaN</td>\n",
       "      <td>NaN</td>\n",
       "      <td>Used</td>\n",
       "      <td>White Minifigure, Headgear Helmet SW Stormtroo...</td>\n",
       "      <td>1.0</td>\n",
       "      <td>3.00</td>\n",
       "      <td>3.00</td>\n",
       "      <td>Part</td>\n",
       "      <td>30408p01</td>\n",
       "      <td>366416338.0</td>\n",
       "    </tr>\n",
       "    <tr>\n",
       "      <th>4</th>\n",
       "      <td>23170630.0</td>\n",
       "      <td>2023-09-23</td>\n",
       "      <td>hanlike</td>\n",
       "      <td>USD</td>\n",
       "      <td>4.99</td>\n",
       "      <td>31.94</td>\n",
       "      <td>2.87</td>\n",
       "      <td>39.80</td>\n",
       "      <td>6.0</td>\n",
       "      <td>11.0</td>\n",
       "      <td>Shipped</td>\n",
       "      <td>USA, California</td>\n",
       "      <td>NaN</td>\n",
       "      <td>NaN</td>\n",
       "      <td>NaN</td>\n",
       "      <td>NaN</td>\n",
       "      <td>NaN</td>\n",
       "      <td>NaN</td>\n",
       "      <td>11</td>\n",
       "      <td>NaN</td>\n",
       "    </tr>\n",
       "    <tr>\n",
       "      <th>5</th>\n",
       "      <td>NaN</td>\n",
       "      <td>NaN</td>\n",
       "      <td>NaN</td>\n",
       "      <td>NaN</td>\n",
       "      <td>NaN</td>\n",
       "      <td>NaN</td>\n",
       "      <td>NaN</td>\n",
       "      <td>NaN</td>\n",
       "      <td>NaN</td>\n",
       "      <td>NaN</td>\n",
       "      <td>NaN</td>\n",
       "      <td>NaN</td>\n",
       "      <td>Used</td>\n",
       "      <td>Rene Belloq - Dark Tan Jacket</td>\n",
       "      <td>1.0</td>\n",
       "      <td>9.48</td>\n",
       "      <td>9.48</td>\n",
       "      <td>Minifigure</td>\n",
       "      <td>iaj009</td>\n",
       "      <td>363929481.0</td>\n",
       "    </tr>\n",
       "  </tbody>\n",
       "</table>\n",
       "</div>"
      ],
      "text/plain": [
       "     Order ID  Order Date       Buyer Base Currency Shipping Order Total  \\\n",
       "1  23214652.0  2023-09-29  ArcStore27           USD     4.99        6.50   \n",
       "2         NaN         NaN         NaN           NaN      NaN         NaN   \n",
       "3         NaN         NaN         NaN           NaN      NaN         NaN   \n",
       "4  23170630.0  2023-09-23     hanlike           USD     4.99       31.94   \n",
       "5         NaN         NaN         NaN           NaN      NaN         NaN   \n",
       "\n",
       "    Tax Base Grand Total  Total Lots  Total Items Order Status  \\\n",
       "1  0.47            11.96         2.0          2.0      Shipped   \n",
       "2   NaN              NaN         NaN          NaN          NaN   \n",
       "3   NaN              NaN         NaN          NaN          NaN   \n",
       "4  2.87            39.80         6.0         11.0      Shipped   \n",
       "5   NaN              NaN         NaN          NaN          NaN   \n",
       "\n",
       "          Location Condition  \\\n",
       "1  USA, California       NaN   \n",
       "2              NaN      Used   \n",
       "3              NaN      Used   \n",
       "4  USA, California       NaN   \n",
       "5              NaN      Used   \n",
       "\n",
       "                                    Item Description  Qty  Each Total  \\\n",
       "1                                                NaN  NaN   NaN   NaN   \n",
       "2  Trans-Light Blue Brick 1 x 2 x 5 without Side ...  1.0  3.50  3.50   \n",
       "3  White Minifigure, Headgear Helmet SW Stormtroo...  1.0  3.00  3.00   \n",
       "4                                                NaN  NaN   NaN   NaN   \n",
       "5                     Rene Belloq - Dark Tan Jacket   1.0  9.48  9.48   \n",
       "\n",
       "    Item Type Item Number       Inv ID  \n",
       "1         NaN          11          NaN  \n",
       "2        Part  46212pb001  366406343.0  \n",
       "3        Part    30408p01  366416338.0  \n",
       "4         NaN          11          NaN  \n",
       "5  Minifigure      iaj009  363929481.0  "
      ]
     },
     "execution_count": 10,
     "metadata": {},
     "output_type": "execute_result"
    }
   ],
   "source": [
    "end_df.head()"
   ]
  },
  {
   "cell_type": "markdown",
   "metadata": {},
   "source": [
    "Created a new csv which will be the one used to load the data "
   ]
  },
  {
   "cell_type": "code",
   "execution_count": 11,
   "metadata": {},
   "outputs": [],
   "source": [
    "end_df.to_csv('Bricklink_Sales.csv',index=False)"
   ]
  },
  {
   "cell_type": "code",
   "execution_count": 12,
   "metadata": {},
   "outputs": [],
   "source": [
    "with open('Bricklink_Sales.csv', 'r') as csv_file:\n",
    "   csv_data = list(csv.reader(csv_file))"
   ]
  },
  {
   "cell_type": "code",
   "execution_count": 16,
   "metadata": {},
   "outputs": [],
   "source": [
    "import mysql.connector"
   ]
  },
  {
   "cell_type": "markdown",
   "metadata": {},
   "source": [
    "Use the MySQL connector to connect to my local host"
   ]
  },
  {
   "cell_type": "code",
   "execution_count": 17,
   "metadata": {},
   "outputs": [],
   "source": [
    "db = mysql.connector.connect(\n",
    "    host = 'localhost',\n",
    "    user = 'root',\n",
    "    passwd = password\n",
    ")\n",
    "mycursor = db.cursor()"
   ]
  },
  {
   "cell_type": "code",
   "execution_count": 18,
   "metadata": {},
   "outputs": [],
   "source": [
    "mycursor.execute(\"CREATE DATABASE IF NOT EXISTS Bricklink_Sales\")"
   ]
  },
  {
   "cell_type": "code",
   "execution_count": 19,
   "metadata": {},
   "outputs": [],
   "source": [
    "db = mysql.connector.connect(\n",
    "    host = 'localhost',\n",
    "    user = 'root',\n",
    "    passwd = password,\n",
    "    database = 'Bricklink_Sales'\n",
    ")\n",
    "mycursor = db.cursor()"
   ]
  },
  {
   "cell_type": "markdown",
   "metadata": {},
   "source": [
    "Columns we want \n",
    "['Order ID', 'Order Date', 'Buyer', 'Base Currency', 'Shipping',\n",
    "                'Order Total', 'Tax', 'Base Grand Total', 'Total Lots', 'Total Items',\n",
    "                'Order Status','Location','Condition', 'Item Description','Qty', 'Each',\n",
    "                'Total','Item Type', 'Item Number','Inv ID']"
   ]
  },
  {
   "cell_type": "markdown",
   "metadata": {},
   "source": [
    "Execute creates the table within the database, while specifiying each columnn name and datatype to be acceptedd"
   ]
  },
  {
   "cell_type": "code",
   "execution_count": 20,
   "metadata": {},
   "outputs": [],
   "source": [
    "mycursor.execute('CREATE TABLE IF NOT EXISTS Sales (order_id INT(10), order_date DATE, buyer VARCHAR(50), base_currency VARCHAR(10), shipping FLOAT(20), order_total FLOAT(10), tax FLOAT(10), base_grand_total FLOAT(10),total_lots INT(10), total_items INT(10),order_status VARCHAR(50),location VARCHAR(50),item_condition VARCHAR(50),item_description VARCHAR(200),quantity INT(10),each_price FLOAT(10),total FLOAT(10),item_type VARCHAR(50),item_number VARCHAR(50),invoice_id INT(10))')"
   ]
  },
  {
   "cell_type": "markdown",
   "metadata": {},
   "source": [
    "for each row it goes across the columns and adds to each of teh specified columns, once closed we can access the database outside of Python as well"
   ]
  },
  {
   "cell_type": "code",
   "execution_count": 21,
   "metadata": {},
   "outputs": [],
   "source": [
    "with open('Bricklink_Sales.csv', 'r') as csv_file:\n",
    "    csv_reader = csv.reader(csv_file)\n",
    "\n",
    "    # Assuming the first row contains column headers, skip it\n",
    "    next(csv_reader)\n",
    "    for row in csv_reader:\n",
    "        # Replace empty or missing values with None\n",
    "        for i in range(len(row)):\n",
    "            if row[i] == '':\n",
    "                row[i] = None\n",
    "                \n",
    "       \n",
    "        # SQL INSERT statement with placeholders\n",
    "        sql = \"\"\"\n",
    "            INSERT INTO Sales (\n",
    "                order_id, order_date, buyer, base_currency, shipping, order_total,\n",
    "                tax, base_grand_total, total_lots, total_items, order_status,\n",
    "                location, item_condition, item_description, quantity, each_price,\n",
    "                total, item_type, item_number, invoice_id\n",
    "            )\n",
    "            VALUES (%s, %s, %s, %s, %s, %s, %s, %s, %s, %s, %s, %s, %s, %s, %s, %s, %s, %s, %s, %s)\n",
    "        \"\"\"\n",
    "\n",
    "        # Execute the SQL statement with the row data\n",
    "       \n",
    "\n",
    "        mycursor.execute(sql, tuple(row))\n",
    "    db.commit()\n",
    "mycursor.close()\n",
    "db.close()"
   ]
  }
 ],
 "metadata": {
  "kernelspec": {
   "display_name": "Python 3",
   "language": "python",
   "name": "python3"
  },
  "language_info": {
   "codemirror_mode": {
    "name": "ipython",
    "version": 3
   },
   "file_extension": ".py",
   "mimetype": "text/x-python",
   "name": "python",
   "nbconvert_exporter": "python",
   "pygments_lexer": "ipython3",
   "version": "3.9.6"
  },
  "orig_nbformat": 4
 },
 "nbformat": 4,
 "nbformat_minor": 2
}
